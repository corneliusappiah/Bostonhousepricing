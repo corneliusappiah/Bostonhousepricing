{
 "cells": [
  {
   "cell_type": "code",
   "execution_count": 1,
   "metadata": {},
   "outputs": [],
   "source": [
    "import pickle\n",
    "from flask import Flask,request,app,jsonify,url_for,render_template\n",
    "import numpy as np\n",
    "import pandas as pd"
   ]
  },
  {
   "cell_type": "code",
   "execution_count": 4,
   "metadata": {},
   "outputs": [
    {
     "name": "stdout",
     "output_type": "stream",
     "text": [
      " * Serving Flask app '__main__'\n",
      " * Debug mode: on\n"
     ]
    },
    {
     "name": "stderr",
     "output_type": "stream",
     "text": [
      "WARNING: This is a development server. Do not use it in a production deployment. Use a production WSGI server instead.\n",
      " * Running on http://127.0.0.1:5000\n",
      "Press CTRL+C to quit\n",
      " * Restarting with stat\n"
     ]
    },
    {
     "ename": "SystemExit",
     "evalue": "1",
     "output_type": "error",
     "traceback": [
      "An exception has occurred, use %tb to see the full traceback.\n",
      "\u001b[1;31mSystemExit\u001b[0m\u001b[1;31m:\u001b[0m 1\n"
     ]
    }
   ],
   "source": [
    "app=Flask(__name__)\n",
    "## loading the model \n",
    "regmodel=pickle.load(open('C:/Users/Cornelius/Desktop/boston_house_price/Bostonhousepricing/regmodel.pkl','rb'))\n",
    "scalar=pickle.load(open('C:/Users/Cornelius/Desktop/boston_house_price/Bostonhousepricing/scaler.pkl','rb'))\n",
    "@app.route('/')\n",
    "def home():\n",
    "    return render_template('home.html')\n",
    "@app.route('/predict_api',methods=['POST'])\n",
    "def predict_api():\n",
    "    data=request.json['data']\n",
    "    print(data)\n",
    "    print(np.array(list(data.values())).reshape(1,-1))\n",
    "    new_data=scalar.transfrom(np.array(list(data.values())).reshape(1,-1))\n",
    "    output=regmodel.predict(new_data)\n",
    "    print(output[0])\n",
    "    return jsonify(output[0])\n",
    "if __name__==\"__main__\":\n",
    "    app.run(debug=True)\n"
   ]
  }
 ],
 "metadata": {
  "kernelspec": {
   "display_name": "cornelius_project",
   "language": "python",
   "name": "python3"
  },
  "language_info": {
   "codemirror_mode": {
    "name": "ipython",
    "version": 3
   },
   "file_extension": ".py",
   "mimetype": "text/x-python",
   "name": "python",
   "nbconvert_exporter": "python",
   "pygments_lexer": "ipython3",
   "version": "3.12.4"
  }
 },
 "nbformat": 4,
 "nbformat_minor": 2
}
